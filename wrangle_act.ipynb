{
 "cells": [
  {
   "cell_type": "markdown",
   "metadata": {
    "extensions": {
     "jupyter_dashboards": {
      "version": 1,
      "views": {
       "grid_default": {
        "col": 0,
        "height": 4,
        "hidden": false,
        "row": 0,
        "width": 4
       },
       "report_default": {
        "hidden": false
       }
      }
     }
    }
   },
   "source": [
    "# Project: Wrangling and Analyzing WERATEDOGS twitter  Data"
   ]
  },
  {
   "cell_type": "markdown",
   "metadata": {},
   "source": [
    "## Data Gathering\n",
    "In the cell below, gather **all** three pieces of data for this project and load them in the notebook. **Note:** the methods required to gather each data are different.\n",
    "1. Directly downloaded the WeRateDogs Twitter archive data (twitter_archive_enhanced.csv)"
   ]
  },
  {
   "cell_type": "code",
   "execution_count": 55,
   "metadata": {
    "extensions": {
     "jupyter_dashboards": {
      "version": 1,
      "views": {
       "grid_default": {
        "hidden": true
       },
       "report_default": {
        "hidden": true
       }
      }
     }
    }
   },
   "outputs": [],
   "source": [
    "# importing important packages for project\n",
    "\n",
    "import pandas as pd\n",
    "import requests\n",
    "import tweepy\n",
    "import numpy as np\n",
    "import os\n",
    "import json\n",
    "import time\n",
    "import matplotlib.pyplot as plt\n",
    "%matplotlib inline"
   ]
  },
  {
   "cell_type": "code",
   "execution_count": 56,
   "metadata": {},
   "outputs": [],
   "source": [
    "# Read the weratedogs twitter archive to a dataframe\n",
    "df_archive=pd.read_csv('twitter-archive-enhanced.csv')"
   ]
  },
  {
   "cell_type": "markdown",
   "metadata": {},
   "source": [
    "2. Using the Requests library to download the tweet image prediction (image_predictions.tsv)"
   ]
  },
  {
   "cell_type": "code",
   "execution_count": 57,
   "metadata": {},
   "outputs": [],
   "source": [
    "# used the request library to connect to required tsv\n",
    "url='https://d17h27t6h515a5.cloudfront.net/topher/2017/August/599fd2ad_image-predictions/image-predictions.tsv'\n",
    "response=requests.get(url)"
   ]
  },
  {
   "cell_type": "code",
   "execution_count": 58,
   "metadata": {},
   "outputs": [],
   "source": [
    "#programmatically downloaded image-predictions.tsv from the response of the requests library by passing it to a file handler\n",
    "with open(os.path.basename(url),'wb') as file:\n",
    "    file.write(response.content)"
   ]
  },
  {
   "cell_type": "code",
   "execution_count": 59,
   "metadata": {
    "scrolled": false
   },
   "outputs": [],
   "source": [
    "# loaded image predictions data to dataframe\n",
    "df_imgp=pd.read_csv('image-predictions.tsv',sep='\\t')"
   ]
  },
  {
   "cell_type": "markdown",
   "metadata": {},
   "source": [
    "3. Using the Tweepy library to query additional data via the Twitter API (tweet_json.txt)"
   ]
  },
  {
   "cell_type": "code",
   "execution_count": null,
   "metadata": {},
   "outputs": [],
   "source": [
    "# API credentials and authentication\n",
    "consumer_key = 'HIDDEN'\n",
    "consumer_secret = 'HIDDEN'\n",
    "access_token = 'HIDDEN'\n",
    "access_secret = 'HIDDEN'\n",
    "\n",
    "auth = tweepy.OAuthHandler(consumer_key, consumer_secret)\n",
    "auth.set_access_token(access_token, access_secret)\n",
    "\n",
    "api = tweepy.API(auth, wait_on_rate_limit=True)"
   ]
  },
  {
   "cell_type": "code",
   "execution_count": null,
   "metadata": {},
   "outputs": [],
   "source": [
    "# created a list to iterate through all IDs\n",
    "tweet_id_list=df_archive.tweet_id.values.tolist()\n",
    "\n",
    "#initialised count for successful api queries and unsuccessful ones\n",
    "count=0\n",
    "count_missing=0\n",
    "\n",
    "# using time module package to measure the time of code run as well as creatinga dictionary that will track error messages from tweepy API\n",
    "start_time=time.time()\n",
    "missing={}\n",
    "\n",
    "# created a file (tweet_json.txt) and populated it with json data corresponding to ID Passed in. \n",
    "with open('tweet_json.txt','w',encoding='utf-8') as jsonfile:\n",
    "        for tweet_id in tweet_id_list:\n",
    "            try:\n",
    "                tweet=api.get_status(tweet_id, tweet_mode='extended')\n",
    "                json.dump(tweet._json, jsonfile)\n",
    "                jsonfile.write('\\n')\n",
    "                print('Tweet with id :{} successfully added to file'.format(tweet_id))\n",
    "                count+=1\n",
    "            # handling errors for possibly deleted tweets\n",
    "            except tweepy.errors.TweepyException as e:\n",
    "                count_missing+=1\n",
    "                print('For some reason, tweet with id {} could not be gotten'.format(tweet_id))\n",
    "                missing[tweet_id]= e\n",
    "                pass\n",
    "    \n",
    "end_time=time.time()\n",
    "\n",
    "total_time=(end_time-start_time)/60\n",
    "\n",
    "# Summary message to sumarise successful data collection and possible \n",
    "summary_message='A total of {} tweets were collected and there was an error with the ID/s of {} tweets total time to query was {} minutes'\n",
    "print(summary_message.format(count,count_missing,total_time))"
   ]
  },
  {
   "cell_type": "code",
   "execution_count": 60,
   "metadata": {},
   "outputs": [],
   "source": [
    "# Viewing list of IDs that could not be collected\n",
    "missing"
   ]
  },
  {
   "cell_type": "code",
   "execution_count": 61,
   "metadata": {},
   "outputs": [
    {
     "name": "stdout",
     "output_type": "stream",
     "text": [
      "<class 'pandas.core.frame.DataFrame'>\n",
      "RangeIndex: 2327 entries, 0 to 2326\n",
      "Data columns (total 3 columns):\n",
      " #   Column          Non-Null Count  Dtype\n",
      "---  ------          --------------  -----\n",
      " 0   tweet_id        2327 non-null   int64\n",
      " 1   retweet_count   2327 non-null   int64\n",
      " 2   favorite_count  2327 non-null   int64\n",
      "dtypes: int64(3)\n",
      "memory usage: 54.7 KB\n"
     ]
    }
   ],
   "source": [
    "# list to contain dictionaries neccesary for dataframe creation\n",
    "api_tweet_list=[]\n",
    "\n",
    "# Opening the tweets file and extracting tweets information line by line\n",
    "with open('tweet_json.txt','rt') as tweetfile:\n",
    "    #iterating though each line of text, converting to json, extracting required information and appending to list of dictionaries\n",
    "    for tweet in tweetfile:\n",
    "        in_json=json.loads(tweet)\n",
    "        tweet_id=in_json['id']\n",
    "        retweet_count=in_json['retweet_count']\n",
    "        favorite_count=in_json['favorite_count']\n",
    "        \n",
    "        api_tweet_list.append({'tweet_id':tweet_id,\n",
    "                   'retweet_count':retweet_count,\n",
    "                   'favorite_count':favorite_count})\n",
    "# creation of dataframe from extracted data appended in a list \n",
    "df_more=pd.DataFrame(api_tweet_list)\n",
    "df_more.info()"
   ]
  },
  {
   "cell_type": "markdown",
   "metadata": {
    "extensions": {
     "jupyter_dashboards": {
      "version": 1,
      "views": {
       "grid_default": {
        "col": 4,
        "height": 4,
        "hidden": false,
        "row": 28,
        "width": 4
       },
       "report_default": {
        "hidden": false
       }
      }
     }
    }
   },
   "source": [
    "## Assessing Data\n",
    "In this section, we shall detect and document at least **eight (8) quality issues and two (2) tidiness issue**. Both visual assessment programmatic assessement to assess the data was used.\n",
    "\n"
   ]
  },
  {
   "cell_type": "markdown",
   "metadata": {},
   "source": [
    "archives data was sampled using the sample method to have a feel of its structure and columns"
   ]
  },
  {
   "cell_type": "code",
   "execution_count": 62,
   "metadata": {
    "scrolled": true
   },
   "outputs": [
    {
     "data": {
      "text/html": [
       "<div>\n",
       "<style scoped>\n",
       "    .dataframe tbody tr th:only-of-type {\n",
       "        vertical-align: middle;\n",
       "    }\n",
       "\n",
       "    .dataframe tbody tr th {\n",
       "        vertical-align: top;\n",
       "    }\n",
       "\n",
       "    .dataframe thead th {\n",
       "        text-align: right;\n",
       "    }\n",
       "</style>\n",
       "<table border=\"1\" class=\"dataframe\">\n",
       "  <thead>\n",
       "    <tr style=\"text-align: right;\">\n",
       "      <th></th>\n",
       "      <th>tweet_id</th>\n",
       "      <th>in_reply_to_status_id</th>\n",
       "      <th>in_reply_to_user_id</th>\n",
       "      <th>timestamp</th>\n",
       "      <th>source</th>\n",
       "      <th>text</th>\n",
       "      <th>retweeted_status_id</th>\n",
       "      <th>retweeted_status_user_id</th>\n",
       "      <th>retweeted_status_timestamp</th>\n",
       "      <th>expanded_urls</th>\n",
       "      <th>rating_numerator</th>\n",
       "      <th>rating_denominator</th>\n",
       "      <th>name</th>\n",
       "      <th>doggo</th>\n",
       "      <th>floofer</th>\n",
       "      <th>pupper</th>\n",
       "      <th>puppo</th>\n",
       "    </tr>\n",
       "  </thead>\n",
       "  <tbody>\n",
       "    <tr>\n",
       "      <th>976</th>\n",
       "      <td>750026558547456000</td>\n",
       "      <td>NaN</td>\n",
       "      <td>NaN</td>\n",
       "      <td>2016-07-04 18:00:41 +0000</td>\n",
       "      <td>&lt;a href=\"https://about.twitter.com/products/tw...</td>\n",
       "      <td>Meet Jax &amp;amp; Jil. Jil is yelling the pledge ...</td>\n",
       "      <td>NaN</td>\n",
       "      <td>NaN</td>\n",
       "      <td>NaN</td>\n",
       "      <td>https://twitter.com/dog_rates/status/750026558...</td>\n",
       "      <td>10</td>\n",
       "      <td>10</td>\n",
       "      <td>Jax</td>\n",
       "      <td>None</td>\n",
       "      <td>None</td>\n",
       "      <td>None</td>\n",
       "      <td>None</td>\n",
       "    </tr>\n",
       "    <tr>\n",
       "      <th>1715</th>\n",
       "      <td>680221482581123072</td>\n",
       "      <td>NaN</td>\n",
       "      <td>NaN</td>\n",
       "      <td>2015-12-25 03:00:14 +0000</td>\n",
       "      <td>&lt;a href=\"http://twitter.com/download/iphone\" r...</td>\n",
       "      <td>This is CeCe. She's patiently waiting for Sant...</td>\n",
       "      <td>NaN</td>\n",
       "      <td>NaN</td>\n",
       "      <td>NaN</td>\n",
       "      <td>https://twitter.com/dog_rates/status/680221482...</td>\n",
       "      <td>10</td>\n",
       "      <td>10</td>\n",
       "      <td>CeCe</td>\n",
       "      <td>None</td>\n",
       "      <td>None</td>\n",
       "      <td>None</td>\n",
       "      <td>None</td>\n",
       "    </tr>\n",
       "  </tbody>\n",
       "</table>\n",
       "</div>"
      ],
      "text/plain": [
       "                tweet_id  in_reply_to_status_id  in_reply_to_user_id  \\\n",
       "976   750026558547456000                    NaN                  NaN   \n",
       "1715  680221482581123072                    NaN                  NaN   \n",
       "\n",
       "                      timestamp  \\\n",
       "976   2016-07-04 18:00:41 +0000   \n",
       "1715  2015-12-25 03:00:14 +0000   \n",
       "\n",
       "                                                 source  \\\n",
       "976   <a href=\"https://about.twitter.com/products/tw...   \n",
       "1715  <a href=\"http://twitter.com/download/iphone\" r...   \n",
       "\n",
       "                                                   text  retweeted_status_id  \\\n",
       "976   Meet Jax &amp; Jil. Jil is yelling the pledge ...                  NaN   \n",
       "1715  This is CeCe. She's patiently waiting for Sant...                  NaN   \n",
       "\n",
       "      retweeted_status_user_id retweeted_status_timestamp  \\\n",
       "976                        NaN                        NaN   \n",
       "1715                       NaN                        NaN   \n",
       "\n",
       "                                          expanded_urls  rating_numerator  \\\n",
       "976   https://twitter.com/dog_rates/status/750026558...                10   \n",
       "1715  https://twitter.com/dog_rates/status/680221482...                10   \n",
       "\n",
       "      rating_denominator  name doggo floofer pupper puppo  \n",
       "976                   10   Jax  None    None   None  None  \n",
       "1715                  10  CeCe  None    None   None  None  "
      ]
     },
     "execution_count": 62,
     "metadata": {},
     "output_type": "execute_result"
    }
   ],
   "source": [
    "df_archive.sample(2)"
   ]
  },
  {
   "cell_type": "markdown",
   "metadata": {},
   "source": [
    "The info() method was used to have a general undertsanding of the data, its data types and non_null values as well asthe total number of rows in the dataset."
   ]
  },
  {
   "cell_type": "code",
   "execution_count": 63,
   "metadata": {
    "scrolled": true
   },
   "outputs": [
    {
     "name": "stdout",
     "output_type": "stream",
     "text": [
      "<class 'pandas.core.frame.DataFrame'>\n",
      "RangeIndex: 2356 entries, 0 to 2355\n",
      "Data columns (total 17 columns):\n",
      " #   Column                      Non-Null Count  Dtype  \n",
      "---  ------                      --------------  -----  \n",
      " 0   tweet_id                    2356 non-null   int64  \n",
      " 1   in_reply_to_status_id       78 non-null     float64\n",
      " 2   in_reply_to_user_id         78 non-null     float64\n",
      " 3   timestamp                   2356 non-null   object \n",
      " 4   source                      2356 non-null   object \n",
      " 5   text                        2356 non-null   object \n",
      " 6   retweeted_status_id         181 non-null    float64\n",
      " 7   retweeted_status_user_id    181 non-null    float64\n",
      " 8   retweeted_status_timestamp  181 non-null    object \n",
      " 9   expanded_urls               2297 non-null   object \n",
      " 10  rating_numerator            2356 non-null   int64  \n",
      " 11  rating_denominator          2356 non-null   int64  \n",
      " 12  name                        2356 non-null   object \n",
      " 13  doggo                       2356 non-null   object \n",
      " 14  floofer                     2356 non-null   object \n",
      " 15  pupper                      2356 non-null   object \n",
      " 16  puppo                       2356 non-null   object \n",
      "dtypes: float64(4), int64(3), object(10)\n",
      "memory usage: 313.0+ KB\n"
     ]
    }
   ],
   "source": [
    "df_archive.info()"
   ]
  },
  {
   "cell_type": "markdown",
   "metadata": {},
   "source": [
    "Variables of interest were further assessed using a combination of the isnull and sum method."
   ]
  },
  {
   "cell_type": "code",
   "execution_count": 64,
   "metadata": {},
   "outputs": [
    {
     "data": {
      "text/plain": [
       "2278"
      ]
     },
     "execution_count": 64,
     "metadata": {},
     "output_type": "execute_result"
    }
   ],
   "source": [
    "df_archive.in_reply_to_status_id.isnull().sum()"
   ]
  },
  {
   "cell_type": "code",
   "execution_count": 65,
   "metadata": {},
   "outputs": [
    {
     "data": {
      "text/plain": [
       "2278"
      ]
     },
     "execution_count": 65,
     "metadata": {},
     "output_type": "execute_result"
    }
   ],
   "source": [
    "df_archive.in_reply_to_user_id.isnull().sum()"
   ]
  },
  {
   "cell_type": "code",
   "execution_count": 66,
   "metadata": {},
   "outputs": [
    {
     "data": {
      "text/plain": [
       "2175"
      ]
     },
     "execution_count": 66,
     "metadata": {},
     "output_type": "execute_result"
    }
   ],
   "source": [
    "df_archive.retweeted_status_id.isnull().sum()"
   ]
  },
  {
   "cell_type": "markdown",
   "metadata": {},
   "source": [
    "The denominator of arcives ratings was assessed to ensure that it was uniform. As can be see, it is not ."
   ]
  },
  {
   "cell_type": "code",
   "execution_count": 67,
   "metadata": {},
   "outputs": [
    {
     "data": {
      "text/plain": [
       "10     2333\n",
       "11        3\n",
       "50        3\n",
       "20        2\n",
       "80        2\n",
       "70        1\n",
       "7         1\n",
       "15        1\n",
       "150       1\n",
       "170       1\n",
       "0         1\n",
       "90        1\n",
       "40        1\n",
       "130       1\n",
       "110       1\n",
       "16        1\n",
       "120       1\n",
       "2         1\n",
       "Name: rating_denominator, dtype: int64"
      ]
     },
     "execution_count": 67,
     "metadata": {},
     "output_type": "execute_result"
    }
   ],
   "source": [
    "df_archive.rating_denominator.value_counts()"
   ]
  },
  {
   "cell_type": "markdown",
   "metadata": {},
   "source": [
    "Categorical variables of interest were assesed to undertsand thier nature using the apply funtion for aggregate and swift review."
   ]
  },
  {
   "cell_type": "code",
   "execution_count": 68,
   "metadata": {},
   "outputs": [
    {
     "data": {
      "text/plain": [
       "doggo    None       2259.0\n",
       "         doggo        97.0\n",
       "floofer  None       2346.0\n",
       "         floofer      10.0\n",
       "pupper   None       2099.0\n",
       "         pupper      257.0\n",
       "puppo    None       2326.0\n",
       "         puppo        30.0\n",
       "dtype: float64"
      ]
     },
     "execution_count": 68,
     "metadata": {},
     "output_type": "execute_result"
    }
   ],
   "source": [
    "df_archive[['doggo', 'floofer','pupper','puppo']].apply(lambda x: x.value_counts()).T.stack()"
   ]
  },
  {
   "cell_type": "code",
   "execution_count": 69,
   "metadata": {},
   "outputs": [
    {
     "data": {
      "text/plain": [
       "None          745\n",
       "a              55\n",
       "Charlie        12\n",
       "Cooper         11\n",
       "Lucy           11\n",
       "             ... \n",
       "Dex             1\n",
       "Ace             1\n",
       "Tayzie          1\n",
       "Grizzie         1\n",
       "Christoper      1\n",
       "Name: name, Length: 957, dtype: int64"
      ]
     },
     "execution_count": 69,
     "metadata": {},
     "output_type": "execute_result"
    }
   ],
   "source": [
    "# The name variable was reviewed\n",
    "df_archive['name'].value_counts()"
   ]
  },
  {
   "cell_type": "markdown",
   "metadata": {},
   "source": [
    "The image predictions data was reviewed for duplicates. As seen below, non is present"
   ]
  },
  {
   "cell_type": "code",
   "execution_count": 70,
   "metadata": {},
   "outputs": [
    {
     "data": {
      "text/html": [
       "<div>\n",
       "<style scoped>\n",
       "    .dataframe tbody tr th:only-of-type {\n",
       "        vertical-align: middle;\n",
       "    }\n",
       "\n",
       "    .dataframe tbody tr th {\n",
       "        vertical-align: top;\n",
       "    }\n",
       "\n",
       "    .dataframe thead th {\n",
       "        text-align: right;\n",
       "    }\n",
       "</style>\n",
       "<table border=\"1\" class=\"dataframe\">\n",
       "  <thead>\n",
       "    <tr style=\"text-align: right;\">\n",
       "      <th></th>\n",
       "      <th>tweet_id</th>\n",
       "      <th>jpg_url</th>\n",
       "      <th>img_num</th>\n",
       "      <th>p1</th>\n",
       "      <th>p1_conf</th>\n",
       "      <th>p1_dog</th>\n",
       "      <th>p2</th>\n",
       "      <th>p2_conf</th>\n",
       "      <th>p2_dog</th>\n",
       "      <th>p3</th>\n",
       "      <th>p3_conf</th>\n",
       "      <th>p3_dog</th>\n",
       "    </tr>\n",
       "  </thead>\n",
       "  <tbody>\n",
       "  </tbody>\n",
       "</table>\n",
       "</div>"
      ],
      "text/plain": [
       "Empty DataFrame\n",
       "Columns: [tweet_id, jpg_url, img_num, p1, p1_conf, p1_dog, p2, p2_conf, p2_dog, p3, p3_conf, p3_dog]\n",
       "Index: []"
      ]
     },
     "execution_count": 70,
     "metadata": {},
     "output_type": "execute_result"
    }
   ],
   "source": [
    "df_imgp[df_imgp.duplicated()==True]"
   ]
  },
  {
   "cell_type": "markdown",
   "metadata": {},
   "source": [
    "Just as the archives data, the info() method was also used to have a general feel and understanding of the nature of the data."
   ]
  },
  {
   "cell_type": "code",
   "execution_count": 71,
   "metadata": {
    "scrolled": true
   },
   "outputs": [
    {
     "name": "stdout",
     "output_type": "stream",
     "text": [
      "<class 'pandas.core.frame.DataFrame'>\n",
      "RangeIndex: 2075 entries, 0 to 2074\n",
      "Data columns (total 12 columns):\n",
      " #   Column    Non-Null Count  Dtype  \n",
      "---  ------    --------------  -----  \n",
      " 0   tweet_id  2075 non-null   int64  \n",
      " 1   jpg_url   2075 non-null   object \n",
      " 2   img_num   2075 non-null   int64  \n",
      " 3   p1        2075 non-null   object \n",
      " 4   p1_conf   2075 non-null   float64\n",
      " 5   p1_dog    2075 non-null   bool   \n",
      " 6   p2        2075 non-null   object \n",
      " 7   p2_conf   2075 non-null   float64\n",
      " 8   p2_dog    2075 non-null   bool   \n",
      " 9   p3        2075 non-null   object \n",
      " 10  p3_conf   2075 non-null   float64\n",
      " 11  p3_dog    2075 non-null   bool   \n",
      "dtypes: bool(3), float64(3), int64(2), object(4)\n",
      "memory usage: 152.1+ KB\n"
     ]
    }
   ],
   "source": [
    "df_imgp.info()\n",
    "# df_imgp.shape"
   ]
  },
  {
   "cell_type": "code",
   "execution_count": 72,
   "metadata": {},
   "outputs": [
    {
     "data": {
      "text/html": [
       "<div>\n",
       "<style scoped>\n",
       "    .dataframe tbody tr th:only-of-type {\n",
       "        vertical-align: middle;\n",
       "    }\n",
       "\n",
       "    .dataframe tbody tr th {\n",
       "        vertical-align: top;\n",
       "    }\n",
       "\n",
       "    .dataframe thead th {\n",
       "        text-align: right;\n",
       "    }\n",
       "</style>\n",
       "<table border=\"1\" class=\"dataframe\">\n",
       "  <thead>\n",
       "    <tr style=\"text-align: right;\">\n",
       "      <th></th>\n",
       "      <th>tweet_id</th>\n",
       "      <th>retweet_count</th>\n",
       "      <th>favorite_count</th>\n",
       "    </tr>\n",
       "  </thead>\n",
       "  <tbody>\n",
       "    <tr>\n",
       "      <th>0</th>\n",
       "      <td>892420643555336193</td>\n",
       "      <td>6973</td>\n",
       "      <td>33700</td>\n",
       "    </tr>\n",
       "    <tr>\n",
       "      <th>1</th>\n",
       "      <td>892177421306343426</td>\n",
       "      <td>5275</td>\n",
       "      <td>29228</td>\n",
       "    </tr>\n",
       "  </tbody>\n",
       "</table>\n",
       "</div>"
      ],
      "text/plain": [
       "             tweet_id  retweet_count  favorite_count\n",
       "0  892420643555336193           6973           33700\n",
       "1  892177421306343426           5275           29228"
      ]
     },
     "execution_count": 72,
     "metadata": {},
     "output_type": "execute_result"
    }
   ],
   "source": [
    "df_more.head(2)\n",
    "# df_imgp.shape"
   ]
  },
  {
   "cell_type": "markdown",
   "metadata": {},
   "source": [
    "A general feel of our data collected from the twitter API was gotten using the info() method. Not much needed to be assessed as it was fresh data gotten from twitter."
   ]
  },
  {
   "cell_type": "code",
   "execution_count": 73,
   "metadata": {},
   "outputs": [
    {
     "name": "stdout",
     "output_type": "stream",
     "text": [
      "<class 'pandas.core.frame.DataFrame'>\n",
      "RangeIndex: 2327 entries, 0 to 2326\n",
      "Data columns (total 3 columns):\n",
      " #   Column          Non-Null Count  Dtype\n",
      "---  ------          --------------  -----\n",
      " 0   tweet_id        2327 non-null   int64\n",
      " 1   retweet_count   2327 non-null   int64\n",
      " 2   favorite_count  2327 non-null   int64\n",
      "dtypes: int64(3)\n",
      "memory usage: 54.7 KB\n"
     ]
    }
   ],
   "source": [
    "df_more.info()"
   ]
  },
  {
   "cell_type": "code",
   "execution_count": 74,
   "metadata": {},
   "outputs": [
    {
     "data": {
      "text/plain": [
       "(2075, 12)"
      ]
     },
     "execution_count": 74,
     "metadata": {},
     "output_type": "execute_result"
    }
   ],
   "source": [
    "df_imgp.shape"
   ]
  },
  {
   "cell_type": "code",
   "execution_count": 75,
   "metadata": {},
   "outputs": [
    {
     "name": "stdout",
     "output_type": "stream",
     "text": [
      "<class 'pandas.core.frame.DataFrame'>\n",
      "RangeIndex: 2356 entries, 0 to 2355\n",
      "Data columns (total 17 columns):\n",
      " #   Column                      Non-Null Count  Dtype  \n",
      "---  ------                      --------------  -----  \n",
      " 0   tweet_id                    2356 non-null   int64  \n",
      " 1   in_reply_to_status_id       78 non-null     float64\n",
      " 2   in_reply_to_user_id         78 non-null     float64\n",
      " 3   timestamp                   2356 non-null   object \n",
      " 4   source                      2356 non-null   object \n",
      " 5   text                        2356 non-null   object \n",
      " 6   retweeted_status_id         181 non-null    float64\n",
      " 7   retweeted_status_user_id    181 non-null    float64\n",
      " 8   retweeted_status_timestamp  181 non-null    object \n",
      " 9   expanded_urls               2297 non-null   object \n",
      " 10  rating_numerator            2356 non-null   int64  \n",
      " 11  rating_denominator          2356 non-null   int64  \n",
      " 12  name                        2356 non-null   object \n",
      " 13  doggo                       2356 non-null   object \n",
      " 14  floofer                     2356 non-null   object \n",
      " 15  pupper                      2356 non-null   object \n",
      " 16  puppo                       2356 non-null   object \n",
      "dtypes: float64(4), int64(3), object(10)\n",
      "memory usage: 313.0+ KB\n"
     ]
    }
   ],
   "source": [
    "df_archive.info()"
   ]
  },
  {
   "cell_type": "markdown",
   "metadata": {},
   "source": [
    "\n",
    "# Our quality and tidiness issues as required are outlined below\n",
    "### Quality issues\n",
    "\n",
    "1. Arcives ratings denominator has values different from 10.\n",
    "\n",
    "2. Source column in the archives dataset containing addresses has html tags inclusive with the url.\n",
    "\n",
    "3. Archives timestamp provided but year needed for analysis.\n",
    "\n",
    "4. Rows containing retweet data present, only original ratings needed in the archives dataset.\n",
    "\n",
    "5. Short url within text variable in the archive dataset.\n",
    "\n",
    "6. expanded_url in the archives dataset repeating same url more than once in some cells.\n",
    "\n",
    "7. Rows containing reply to status Id and user id with columns present.\n",
    "\n",
    "8. Expanded_urls column has empty cells.\n"
   ]
  },
  {
   "cell_type": "markdown",
   "metadata": {
    "extensions": {
     "jupyter_dashboards": {
      "version": 1,
      "views": {
       "grid_default": {
        "col": 0,
        "height": 7,
        "hidden": false,
        "row": 40,
        "width": 12
       },
       "report_default": {
        "hidden": false
       }
      }
     }
    }
   },
   "source": [
    "### Tidiness issues\n",
    "1. The dog stages in the archives dataset is scattered across several columns (doggo, floofer, pupper and puppo).\n",
    "\n",
    "2. Dog prediction algorithm in the image prediction dataset is scattered across 3 columns(p1,p2,p3)."
   ]
  },
  {
   "cell_type": "markdown",
   "metadata": {
    "extensions": {
     "jupyter_dashboards": {
      "version": 1,
      "views": {
       "grid_default": {
        "col": 4,
        "height": 4,
        "hidden": false,
        "row": 32,
        "width": 4
       },
       "report_default": {
        "hidden": false
       }
      }
     }
    }
   },
   "source": [
    "## Cleaning Data\n",
    "\n",
    "In this section, all the issues  documented while assessing are cleaned. \n"
   ]
  },
  {
   "cell_type": "markdown",
   "metadata": {},
   "source": [
    "## Making copies of original data before the commencement of cleaning"
   ]
  },
  {
   "cell_type": "code",
   "execution_count": 79,
   "metadata": {},
   "outputs": [],
   "source": [
    "df_archivec=df_archive.copy()\n",
    "df_imgpc=df_imgp.copy()\n",
    "df_morec=df_more.copy()"
   ]
  },
  {
   "cell_type": "markdown",
   "metadata": {},
   "source": [
    "# Quality issues\n",
    "### Issue #1: Archives ratings denominator has values different from 10."
   ]
  },
  {
   "cell_type": "markdown",
   "metadata": {},
   "source": [
    "#### Define: Make all values of rating_denominator equal to 10 using numpy repeat function"
   ]
  },
  {
   "cell_type": "markdown",
   "metadata": {},
   "source": [
    "#### Code"
   ]
  },
  {
   "cell_type": "code",
   "execution_count": 80,
   "metadata": {},
   "outputs": [],
   "source": [
    "# values computed in the right and sent to the rating_denominator variable\n",
    "\n",
    "df_archivec['rating_denominator']=np.repeat(10,df_archivec.shape[0])"
   ]
  },
  {
   "cell_type": "markdown",
   "metadata": {},
   "source": [
    "#### Test"
   ]
  },
  {
   "cell_type": "code",
   "execution_count": 81,
   "metadata": {},
   "outputs": [
    {
     "data": {
      "text/plain": [
       "10    2117\n",
       "Name: rating_denominator, dtype: int64"
      ]
     },
     "execution_count": 81,
     "metadata": {},
     "output_type": "execute_result"
    }
   ],
   "source": [
    "df_archivec.rating_denominator.value_counts()"
   ]
  },
  {
   "cell_type": "markdown",
   "metadata": {},
   "source": [
    "### Issue #2: Source column in the archives dataset containing addresses has html tags inclusive with the url."
   ]
  },
  {
   "cell_type": "markdown",
   "metadata": {
    "collapsed": true,
    "extensions": {
     "jupyter_dashboards": {
      "version": 1,
      "views": {
       "grid_default": {
        "hidden": true
       },
       "report_default": {
        "hidden": true
       }
      }
     }
    }
   },
   "source": [
    "#### Define : Use regular expressions to extract only url from tags"
   ]
  },
  {
   "cell_type": "markdown",
   "metadata": {},
   "source": [
    "#### Code"
   ]
  },
  {
   "cell_type": "code",
   "execution_count": 82,
   "metadata": {},
   "outputs": [],
   "source": [
    "# Extracts the url from its tags but with a an comma at the end \n",
    "df_archivec[\"source\"]=df_archivec[\"source\"].str.extract(r'(?P<url>https?://[^\\s]+)')\n",
    "\n",
    "# Removes the scomma at the end of extracted url\n",
    "df_archivec[\"source\"] = df_archivec[\"source\"].map(lambda x: str(x)[:-1])"
   ]
  },
  {
   "cell_type": "markdown",
   "metadata": {},
   "source": [
    "#### Test"
   ]
  },
  {
   "cell_type": "code",
   "execution_count": 83,
   "metadata": {},
   "outputs": [
    {
     "data": {
      "text/plain": [
       "292     http://twitter.com/download/iphone\n",
       "1304    http://twitter.com/download/iphone\n",
       "1676                        http://vine.co\n",
       "Name: source, dtype: object"
      ]
     },
     "execution_count": 83,
     "metadata": {},
     "output_type": "execute_result"
    }
   ],
   "source": [
    "df_archivec[\"source\"].sample(3)"
   ]
  },
  {
   "cell_type": "markdown",
   "metadata": {},
   "source": [
    "### Issue #3: Archives timestamp provided but year needed for analysis"
   ]
  },
  {
   "cell_type": "markdown",
   "metadata": {
    "collapsed": true,
    "extensions": {
     "jupyter_dashboards": {
      "version": 1,
      "views": {
       "grid_default": {
        "hidden": true
       },
       "report_default": {
        "hidden": true
       }
      }
     }
    }
   },
   "source": [
    "#### Define : Use regular expressiosns to extract year from timestamp string"
   ]
  },
  {
   "cell_type": "markdown",
   "metadata": {},
   "source": [
    "#### Code"
   ]
  },
  {
   "cell_type": "code",
   "execution_count": 84,
   "metadata": {},
   "outputs": [],
   "source": [
    "#year takes the place of the time stamp as it is renamed\n",
    "df_archivec['timestamp'] = df_archivec['timestamp'].str.extract(r'([1-3][0-9]{3})')\n",
    "df_archivec.rename(columns={'timestamp':'year'}, inplace=True)\n"
   ]
  },
  {
   "cell_type": "markdown",
   "metadata": {},
   "source": [
    "#### Test"
   ]
  },
  {
   "cell_type": "code",
   "execution_count": 85,
   "metadata": {
    "scrolled": true
   },
   "outputs": [
    {
     "data": {
      "text/html": [
       "<div>\n",
       "<style scoped>\n",
       "    .dataframe tbody tr th:only-of-type {\n",
       "        vertical-align: middle;\n",
       "    }\n",
       "\n",
       "    .dataframe tbody tr th {\n",
       "        vertical-align: top;\n",
       "    }\n",
       "\n",
       "    .dataframe thead th {\n",
       "        text-align: right;\n",
       "    }\n",
       "</style>\n",
       "<table border=\"1\" class=\"dataframe\">\n",
       "  <thead>\n",
       "    <tr style=\"text-align: right;\">\n",
       "      <th></th>\n",
       "      <th>tweet_id</th>\n",
       "      <th>in_reply_to_status_id</th>\n",
       "      <th>in_reply_to_user_id</th>\n",
       "      <th>year</th>\n",
       "      <th>source</th>\n",
       "      <th>text</th>\n",
       "      <th>retweeted_status_id</th>\n",
       "      <th>retweeted_status_user_id</th>\n",
       "      <th>retweeted_status_timestamp</th>\n",
       "      <th>expanded_urls</th>\n",
       "      <th>rating_numerator</th>\n",
       "      <th>rating_denominator</th>\n",
       "      <th>name</th>\n",
       "      <th>doggo</th>\n",
       "      <th>floofer</th>\n",
       "      <th>pupper</th>\n",
       "      <th>puppo</th>\n",
       "      <th>short_url</th>\n",
       "    </tr>\n",
       "  </thead>\n",
       "  <tbody>\n",
       "    <tr>\n",
       "      <th>970</th>\n",
       "      <td>750117059602808832</td>\n",
       "      <td>NaN</td>\n",
       "      <td>NaN</td>\n",
       "      <td>2016</td>\n",
       "      <td>http://twitter.com/download/iphone</td>\n",
       "      <td>This is Calvin. He just loves America so much....</td>\n",
       "      <td>NaN</td>\n",
       "      <td>NaN</td>\n",
       "      <td>NaN</td>\n",
       "      <td>https://twitter.com/dog_rates/status/750117059...</td>\n",
       "      <td>10</td>\n",
       "      <td>10</td>\n",
       "      <td>Calvin</td>\n",
       "      <td>None</td>\n",
       "      <td>None</td>\n",
       "      <td>None</td>\n",
       "      <td>None</td>\n",
       "      <td>https://t.co/RXdzWaCQHm</td>\n",
       "    </tr>\n",
       "    <tr>\n",
       "      <th>1126</th>\n",
       "      <td>729854734790754305</td>\n",
       "      <td>NaN</td>\n",
       "      <td>NaN</td>\n",
       "      <td>2016</td>\n",
       "      <td>http://twitter.com/download/iphone</td>\n",
       "      <td>Say hello to Ollie. He conducts this train. He...</td>\n",
       "      <td>NaN</td>\n",
       "      <td>NaN</td>\n",
       "      <td>NaN</td>\n",
       "      <td>https://twitter.com/dog_rates/status/729854734...</td>\n",
       "      <td>11</td>\n",
       "      <td>10</td>\n",
       "      <td>Ollie</td>\n",
       "      <td>None</td>\n",
       "      <td>None</td>\n",
       "      <td>None</td>\n",
       "      <td>None</td>\n",
       "      <td>https://t.co/jVxOGKEU0z</td>\n",
       "    </tr>\n",
       "  </tbody>\n",
       "</table>\n",
       "</div>"
      ],
      "text/plain": [
       "                tweet_id  in_reply_to_status_id  in_reply_to_user_id  year  \\\n",
       "970   750117059602808832                    NaN                  NaN  2016   \n",
       "1126  729854734790754305                    NaN                  NaN  2016   \n",
       "\n",
       "                                  source  \\\n",
       "970   http://twitter.com/download/iphone   \n",
       "1126  http://twitter.com/download/iphone   \n",
       "\n",
       "                                                   text  retweeted_status_id  \\\n",
       "970   This is Calvin. He just loves America so much....                  NaN   \n",
       "1126  Say hello to Ollie. He conducts this train. He...                  NaN   \n",
       "\n",
       "      retweeted_status_user_id retweeted_status_timestamp  \\\n",
       "970                        NaN                        NaN   \n",
       "1126                       NaN                        NaN   \n",
       "\n",
       "                                          expanded_urls  rating_numerator  \\\n",
       "970   https://twitter.com/dog_rates/status/750117059...                10   \n",
       "1126  https://twitter.com/dog_rates/status/729854734...                11   \n",
       "\n",
       "      rating_denominator    name doggo floofer pupper puppo  \\\n",
       "970                   10  Calvin  None    None   None  None   \n",
       "1126                  10   Ollie  None    None   None  None   \n",
       "\n",
       "                    short_url  \n",
       "970   https://t.co/RXdzWaCQHm  \n",
       "1126  https://t.co/jVxOGKEU0z  "
      ]
     },
     "execution_count": 85,
     "metadata": {},
     "output_type": "execute_result"
    }
   ],
   "source": [
    "df_archivec.sample(2)"
   ]
  },
  {
   "cell_type": "markdown",
   "metadata": {},
   "source": [
    "### Issue #4: Retweet rows present, only original ratings needed"
   ]
  },
  {
   "cell_type": "markdown",
   "metadata": {
    "collapsed": true,
    "extensions": {
     "jupyter_dashboards": {
      "version": 1,
      "views": {
       "grid_default": {
        "hidden": true
       },
       "report_default": {
        "hidden": true
       }
      }
     }
    }
   },
   "source": [
    "#### Define : Select data where retweeted_status_id  is empty and drop columns associated with retweets as they shall all be empty"
   ]
  },
  {
   "cell_type": "markdown",
   "metadata": {},
   "source": [
    "#### Code"
   ]
  },
  {
   "cell_type": "code",
   "execution_count": 86,
   "metadata": {},
   "outputs": [],
   "source": [
    "# appropriate rows selected and unneccesary columns dropped\n",
    "df_archivec=df_archivec[df_archivec.retweeted_status_id.isnull()]\n",
    "df_archivec=df_archivec.drop(['retweeted_status_id','retweeted_status_user_id','retweeted_status_timestamp'], axis=1)"
   ]
  },
  {
   "cell_type": "markdown",
   "metadata": {},
   "source": [
    "#### Test"
   ]
  },
  {
   "cell_type": "code",
   "execution_count": 87,
   "metadata": {},
   "outputs": [
    {
     "name": "stdout",
     "output_type": "stream",
     "text": [
      "<class 'pandas.core.frame.DataFrame'>\n",
      "Int64Index: 2117 entries, 0 to 2355\n",
      "Data columns (total 15 columns):\n",
      " #   Column                 Non-Null Count  Dtype  \n",
      "---  ------                 --------------  -----  \n",
      " 0   tweet_id               2117 non-null   int64  \n",
      " 1   in_reply_to_status_id  23 non-null     float64\n",
      " 2   in_reply_to_user_id    23 non-null     float64\n",
      " 3   year                   2117 non-null   object \n",
      " 4   source                 2117 non-null   object \n",
      " 5   text                   2117 non-null   object \n",
      " 6   expanded_urls          2117 non-null   object \n",
      " 7   rating_numerator       2117 non-null   int64  \n",
      " 8   rating_denominator     2117 non-null   int64  \n",
      " 9   name                   2117 non-null   object \n",
      " 10  doggo                  2117 non-null   object \n",
      " 11  floofer                2117 non-null   object \n",
      " 12  pupper                 2117 non-null   object \n",
      " 13  puppo                  2117 non-null   object \n",
      " 14  short_url              2117 non-null   object \n",
      "dtypes: float64(2), int64(3), object(10)\n",
      "memory usage: 264.6+ KB\n"
     ]
    }
   ],
   "source": [
    "#raws and coumns dropped\n",
    "df_archivec.info()"
   ]
  },
  {
   "cell_type": "markdown",
   "metadata": {},
   "source": [
    "### Issue #5: Short url within text variable in the archive dataset"
   ]
  },
  {
   "cell_type": "markdown",
   "metadata": {
    "collapsed": true,
    "extensions": {
     "jupyter_dashboards": {
      "version": 1,
      "views": {
       "grid_default": {
        "hidden": true
       },
       "report_default": {
        "hidden": true
       }
      }
     }
    }
   },
   "source": [
    "#### Define : Use regular expressions to extract the short  url and stotre in a short_url column"
   ]
  },
  {
   "cell_type": "markdown",
   "metadata": {},
   "source": [
    "#### Code"
   ]
  },
  {
   "cell_type": "code",
   "execution_count": 88,
   "metadata": {},
   "outputs": [],
   "source": [
    "# short_url created and extracted short urls saved in it\n",
    "df_archivec['short_url'] = df_archivec['text'].str.extract(r'(?P<url>https?://[^\\s]+)')\n"
   ]
  },
  {
   "cell_type": "markdown",
   "metadata": {},
   "source": [
    "#### Test"
   ]
  },
  {
   "cell_type": "code",
   "execution_count": 89,
   "metadata": {
    "scrolled": true
   },
   "outputs": [
    {
     "data": {
      "text/plain": [
       "2074    https://t.co/yfAAo1gdeY\n",
       "569     https://t.co/4fY2bsAm65\n",
       "489     https://t.co/z1VRj1cYZf\n",
       "253     https://t.co/2RYiLGHuPN\n",
       "882     https://t.co/qFsl1nnXMv\n",
       "Name: short_url, dtype: object"
      ]
     },
     "execution_count": 89,
     "metadata": {},
     "output_type": "execute_result"
    }
   ],
   "source": [
    "df_archive['short_url'].sample(5)"
   ]
  },
  {
   "cell_type": "markdown",
   "metadata": {},
   "source": [
    "### Issue #6: expanded_url in the archives dataset repeating same url more than once in some cells."
   ]
  },
  {
   "cell_type": "markdown",
   "metadata": {
    "collapsed": true,
    "extensions": {
     "jupyter_dashboards": {
      "version": 1,
      "views": {
       "grid_default": {
        "hidden": true
       },
       "report_default": {
        "hidden": true
       }
      }
     }
    }
   },
   "source": [
    "#### Define : Use the str.split method to split the entire url at the seperator delimiter and pick the first url."
   ]
  },
  {
   "cell_type": "markdown",
   "metadata": {},
   "source": [
    "#### Code"
   ]
  },
  {
   "cell_type": "code",
   "execution_count": 90,
   "metadata": {},
   "outputs": [],
   "source": [
    "#single url reassigned to the expanded urls column\n",
    "df_archivec['expanded_urls'] = df_archivec['expanded_urls'].str.split(\",\", n=1,expand = True)[0]\n"
   ]
  },
  {
   "cell_type": "markdown",
   "metadata": {},
   "source": [
    "#### Test"
   ]
  },
  {
   "cell_type": "code",
   "execution_count": 91,
   "metadata": {
    "scrolled": true
   },
   "outputs": [
    {
     "data": {
      "text/html": [
       "<div>\n",
       "<style scoped>\n",
       "    .dataframe tbody tr th:only-of-type {\n",
       "        vertical-align: middle;\n",
       "    }\n",
       "\n",
       "    .dataframe tbody tr th {\n",
       "        vertical-align: top;\n",
       "    }\n",
       "\n",
       "    .dataframe thead th {\n",
       "        text-align: right;\n",
       "    }\n",
       "</style>\n",
       "<table border=\"1\" class=\"dataframe\">\n",
       "  <thead>\n",
       "    <tr style=\"text-align: right;\">\n",
       "      <th></th>\n",
       "      <th>tweet_id</th>\n",
       "      <th>in_reply_to_status_id</th>\n",
       "      <th>in_reply_to_user_id</th>\n",
       "      <th>year</th>\n",
       "      <th>source</th>\n",
       "      <th>text</th>\n",
       "      <th>expanded_urls</th>\n",
       "      <th>rating_numerator</th>\n",
       "      <th>rating_denominator</th>\n",
       "      <th>name</th>\n",
       "      <th>doggo</th>\n",
       "      <th>floofer</th>\n",
       "      <th>pupper</th>\n",
       "      <th>puppo</th>\n",
       "      <th>short_url</th>\n",
       "    </tr>\n",
       "  </thead>\n",
       "  <tbody>\n",
       "    <tr>\n",
       "      <th>2056</th>\n",
       "      <td>671357843010908160</td>\n",
       "      <td>NaN</td>\n",
       "      <td>NaN</td>\n",
       "      <td>2015</td>\n",
       "      <td>http://twitter.com/download/iphone</td>\n",
       "      <td>Tfw she says hello from the other side. 9/10 h...</td>\n",
       "      <td>https://twitter.com/dog_rates/status/671357843...</td>\n",
       "      <td>9</td>\n",
       "      <td>10</td>\n",
       "      <td>None</td>\n",
       "      <td>None</td>\n",
       "      <td>None</td>\n",
       "      <td>None</td>\n",
       "      <td>None</td>\n",
       "      <td>https://t.co/lS1TIDagIb</td>\n",
       "    </tr>\n",
       "  </tbody>\n",
       "</table>\n",
       "</div>"
      ],
      "text/plain": [
       "                tweet_id  in_reply_to_status_id  in_reply_to_user_id  year  \\\n",
       "2056  671357843010908160                    NaN                  NaN  2015   \n",
       "\n",
       "                                  source  \\\n",
       "2056  http://twitter.com/download/iphone   \n",
       "\n",
       "                                                   text  \\\n",
       "2056  Tfw she says hello from the other side. 9/10 h...   \n",
       "\n",
       "                                          expanded_urls  rating_numerator  \\\n",
       "2056  https://twitter.com/dog_rates/status/671357843...                 9   \n",
       "\n",
       "      rating_denominator  name doggo floofer pupper puppo  \\\n",
       "2056                  10  None  None    None   None  None   \n",
       "\n",
       "                    short_url  \n",
       "2056  https://t.co/lS1TIDagIb  "
      ]
     },
     "execution_count": 91,
     "metadata": {},
     "output_type": "execute_result"
    }
   ],
   "source": [
    "# comparing sample repeated url with its cleaned form. A returned row means cleaningis successful as seen\n",
    "df_archivec[df_archivec['expanded_urls']==\"https://twitter.com/dog_rates/status/671357843010908160/photo/1\"]"
   ]
  },
  {
   "cell_type": "markdown",
   "metadata": {},
   "source": [
    "### Issue #7: Rows containing reply to status Id and user id with columns present"
   ]
  },
  {
   "cell_type": "markdown",
   "metadata": {
    "collapsed": true,
    "extensions": {
     "jupyter_dashboards": {
      "version": 1,
      "views": {
       "grid_default": {
        "hidden": true
       },
       "report_default": {
        "hidden": true
       }
      }
     }
    }
   },
   "source": [
    "#### Define : Select data where retweet status id is empty and drop columns associated with retweets as they shall all be empty"
   ]
  },
  {
   "cell_type": "markdown",
   "metadata": {},
   "source": [
    "#### Code"
   ]
  },
  {
   "cell_type": "code",
   "execution_count": 92,
   "metadata": {},
   "outputs": [],
   "source": [
    "# rows with no reply status id selected and empty columns dropped\n",
    "df_archivec=df_archivec[df_archivec.in_reply_to_status_id.isnull()]\n",
    "df_archivec=df_archivec.drop(['in_reply_to_status_id','in_reply_to_user_id'], axis=1)"
   ]
  },
  {
   "cell_type": "markdown",
   "metadata": {},
   "source": [
    "#### Test"
   ]
  },
  {
   "cell_type": "code",
   "execution_count": 93,
   "metadata": {},
   "outputs": [
    {
     "data": {
      "text/html": [
       "<div>\n",
       "<style scoped>\n",
       "    .dataframe tbody tr th:only-of-type {\n",
       "        vertical-align: middle;\n",
       "    }\n",
       "\n",
       "    .dataframe tbody tr th {\n",
       "        vertical-align: top;\n",
       "    }\n",
       "\n",
       "    .dataframe thead th {\n",
       "        text-align: right;\n",
       "    }\n",
       "</style>\n",
       "<table border=\"1\" class=\"dataframe\">\n",
       "  <thead>\n",
       "    <tr style=\"text-align: right;\">\n",
       "      <th></th>\n",
       "      <th>tweet_id</th>\n",
       "      <th>year</th>\n",
       "      <th>source</th>\n",
       "      <th>text</th>\n",
       "      <th>expanded_urls</th>\n",
       "      <th>rating_numerator</th>\n",
       "      <th>rating_denominator</th>\n",
       "      <th>name</th>\n",
       "      <th>doggo</th>\n",
       "      <th>floofer</th>\n",
       "      <th>pupper</th>\n",
       "      <th>puppo</th>\n",
       "      <th>short_url</th>\n",
       "    </tr>\n",
       "  </thead>\n",
       "  <tbody>\n",
       "  </tbody>\n",
       "</table>\n",
       "</div>"
      ],
      "text/plain": [
       "Empty DataFrame\n",
       "Columns: [tweet_id, year, source, text, expanded_urls, rating_numerator, rating_denominator, name, doggo, floofer, pupper, puppo, short_url]\n",
       "Index: []"
      ]
     },
     "execution_count": 93,
     "metadata": {},
     "output_type": "execute_result"
    }
   ],
   "source": [
    "df_archivec.head(0)"
   ]
  },
  {
   "cell_type": "markdown",
   "metadata": {},
   "source": [
    "### Issue #8: Expanded_urls column has empty cells."
   ]
  },
  {
   "cell_type": "markdown",
   "metadata": {
    "collapsed": true,
    "extensions": {
     "jupyter_dashboards": {
      "version": 1,
      "views": {
       "grid_default": {
        "hidden": true
       },
       "report_default": {
        "hidden": true
       }
      }
     }
    }
   },
   "source": [
    "#### Define : Remove the rows in which the expanded_urls column has empty cells"
   ]
  },
  {
   "cell_type": "markdown",
   "metadata": {},
   "source": [
    "#### Code"
   ]
  },
  {
   "cell_type": "code",
   "execution_count": 94,
   "metadata": {},
   "outputs": [],
   "source": [
    "#dropping expanded_url cells that are empty\n",
    "df_archivec.dropna(subset=['expanded_urls'], inplace=True)\n"
   ]
  },
  {
   "cell_type": "markdown",
   "metadata": {},
   "source": [
    "#### Test"
   ]
  },
  {
   "cell_type": "code",
   "execution_count": 95,
   "metadata": {},
   "outputs": [
    {
     "name": "stdout",
     "output_type": "stream",
     "text": [
      "<class 'pandas.core.frame.DataFrame'>\n",
      "Int64Index: 2094 entries, 0 to 2355\n",
      "Data columns (total 13 columns):\n",
      " #   Column              Non-Null Count  Dtype \n",
      "---  ------              --------------  ----- \n",
      " 0   tweet_id            2094 non-null   int64 \n",
      " 1   year                2094 non-null   object\n",
      " 2   source              2094 non-null   object\n",
      " 3   text                2094 non-null   object\n",
      " 4   expanded_urls       2094 non-null   object\n",
      " 5   rating_numerator    2094 non-null   int64 \n",
      " 6   rating_denominator  2094 non-null   int64 \n",
      " 7   name                2094 non-null   object\n",
      " 8   doggo               2094 non-null   object\n",
      " 9   floofer             2094 non-null   object\n",
      " 10  pupper              2094 non-null   object\n",
      " 11  puppo               2094 non-null   object\n",
      " 12  short_url           2094 non-null   object\n",
      "dtypes: int64(3), object(10)\n",
      "memory usage: 229.0+ KB\n"
     ]
    }
   ],
   "source": [
    "df_archivec.info()"
   ]
  },
  {
   "cell_type": "markdown",
   "metadata": {},
   "source": [
    "# Tidiness issues\n",
    "\n",
    "### Issue #1: The dog stages in the archives dataset is scattered across several columns (doggo, floofer, pupper and puppo)."
   ]
  },
  {
   "cell_type": "markdown",
   "metadata": {
    "collapsed": true,
    "extensions": {
     "jupyter_dashboards": {
      "version": 1,
      "views": {
       "grid_default": {
        "hidden": true
       },
       "report_default": {
        "hidden": true
       }
      }
     }
    }
   },
   "source": [
    "#### Define : Melt the dog stages to a single dog stage variable and its corresponding stage"
   ]
  },
  {
   "cell_type": "markdown",
   "metadata": {},
   "source": [
    "#### Code"
   ]
  },
  {
   "cell_type": "code",
   "execution_count": 96,
   "metadata": {},
   "outputs": [],
   "source": [
    "# values melted and saved back to the archive dataframe\n",
    "df_archivec=df_archivec.melt(id_vars=['tweet_id','year','source','text','expanded_urls','rating_numerator','rating_denominator','name','short_url'],var_name='dog_stage',value_name='presence')"
   ]
  },
  {
   "cell_type": "markdown",
   "metadata": {},
   "source": [
    "#### Test"
   ]
  },
  {
   "cell_type": "code",
   "execution_count": 97,
   "metadata": {},
   "outputs": [
    {
     "data": {
      "text/html": [
       "<div>\n",
       "<style scoped>\n",
       "    .dataframe tbody tr th:only-of-type {\n",
       "        vertical-align: middle;\n",
       "    }\n",
       "\n",
       "    .dataframe tbody tr th {\n",
       "        vertical-align: top;\n",
       "    }\n",
       "\n",
       "    .dataframe thead th {\n",
       "        text-align: right;\n",
       "    }\n",
       "</style>\n",
       "<table border=\"1\" class=\"dataframe\">\n",
       "  <thead>\n",
       "    <tr style=\"text-align: right;\">\n",
       "      <th></th>\n",
       "      <th>tweet_id</th>\n",
       "      <th>year</th>\n",
       "      <th>source</th>\n",
       "      <th>text</th>\n",
       "      <th>expanded_urls</th>\n",
       "      <th>rating_numerator</th>\n",
       "      <th>rating_denominator</th>\n",
       "      <th>name</th>\n",
       "      <th>short_url</th>\n",
       "      <th>dog_stage</th>\n",
       "      <th>presence</th>\n",
       "    </tr>\n",
       "  </thead>\n",
       "  <tbody>\n",
       "    <tr>\n",
       "      <th>7694</th>\n",
       "      <td>683498322573824003</td>\n",
       "      <td>2016</td>\n",
       "      <td>http://twitter.com/download/iphone</td>\n",
       "      <td>This is Griffin. He's desperate for both a phy...</td>\n",
       "      <td>https://twitter.com/dog_rates/status/683498322...</td>\n",
       "      <td>11</td>\n",
       "      <td>10</td>\n",
       "      <td>Griffin</td>\n",
       "      <td>https://t.co/ObWcOEekt0</td>\n",
       "      <td>puppo</td>\n",
       "      <td>None</td>\n",
       "    </tr>\n",
       "    <tr>\n",
       "      <th>3546</th>\n",
       "      <td>681297372102656000</td>\n",
       "      <td>2015</td>\n",
       "      <td>http://twitter.com/download/iphone</td>\n",
       "      <td>This is actually a lion. We only rate dogs. Fo...</td>\n",
       "      <td>https://twitter.com/dog_rates/status/681297372...</td>\n",
       "      <td>12</td>\n",
       "      <td>10</td>\n",
       "      <td>actually</td>\n",
       "      <td>https://t.co/Pp26dMQxap</td>\n",
       "      <td>floofer</td>\n",
       "      <td>None</td>\n",
       "    </tr>\n",
       "  </tbody>\n",
       "</table>\n",
       "</div>"
      ],
      "text/plain": [
       "                tweet_id  year                              source  \\\n",
       "7694  683498322573824003  2016  http://twitter.com/download/iphone   \n",
       "3546  681297372102656000  2015  http://twitter.com/download/iphone   \n",
       "\n",
       "                                                   text  \\\n",
       "7694  This is Griffin. He's desperate for both a phy...   \n",
       "3546  This is actually a lion. We only rate dogs. Fo...   \n",
       "\n",
       "                                          expanded_urls  rating_numerator  \\\n",
       "7694  https://twitter.com/dog_rates/status/683498322...                11   \n",
       "3546  https://twitter.com/dog_rates/status/681297372...                12   \n",
       "\n",
       "      rating_denominator      name                short_url dog_stage presence  \n",
       "7694                  10   Griffin  https://t.co/ObWcOEekt0     puppo     None  \n",
       "3546                  10  actually  https://t.co/Pp26dMQxap   floofer     None  "
      ]
     },
     "execution_count": 97,
     "metadata": {},
     "output_type": "execute_result"
    }
   ],
   "source": [
    "df_archivec.sample(2)"
   ]
  },
  {
   "cell_type": "markdown",
   "metadata": {},
   "source": [
    "### Issue #2: Dog prediction algorithm in the image prediction dataset is scattered across 3 columns."
   ]
  },
  {
   "cell_type": "markdown",
   "metadata": {
    "collapsed": true,
    "extensions": {
     "jupyter_dashboards": {
      "version": 1,
      "views": {
       "grid_default": {
        "hidden": true
       },
       "report_default": {
        "hidden": true
       }
      }
     }
    }
   },
   "source": [
    "#### Define : Melt prediction algorithms to 1 variable (p1, p2, p3) and their predictions to another."
   ]
  },
  {
   "cell_type": "markdown",
   "metadata": {},
   "source": [
    "#### Code"
   ]
  },
  {
   "cell_type": "code",
   "execution_count": 98,
   "metadata": {},
   "outputs": [],
   "source": [
    "# values melted and saved back to the image predictions dataframe\n",
    "df_imgpc=df_imgpc.melt(id_vars=['tweet_id','jpg_url','img_num','p1_conf','p1_dog','p2_conf','p2_dog','p3_conf','p3_dog'],var_name='prediction_algorithm',value_name='predicted outcome')"
   ]
  },
  {
   "cell_type": "markdown",
   "metadata": {},
   "source": [
    "#### Test"
   ]
  },
  {
   "cell_type": "code",
   "execution_count": 99,
   "metadata": {
    "scrolled": true
   },
   "outputs": [
    {
     "data": {
      "text/html": [
       "<div>\n",
       "<style scoped>\n",
       "    .dataframe tbody tr th:only-of-type {\n",
       "        vertical-align: middle;\n",
       "    }\n",
       "\n",
       "    .dataframe tbody tr th {\n",
       "        vertical-align: top;\n",
       "    }\n",
       "\n",
       "    .dataframe thead th {\n",
       "        text-align: right;\n",
       "    }\n",
       "</style>\n",
       "<table border=\"1\" class=\"dataframe\">\n",
       "  <thead>\n",
       "    <tr style=\"text-align: right;\">\n",
       "      <th></th>\n",
       "      <th>tweet_id</th>\n",
       "      <th>jpg_url</th>\n",
       "      <th>img_num</th>\n",
       "      <th>p1_conf</th>\n",
       "      <th>p1_dog</th>\n",
       "      <th>p2_conf</th>\n",
       "      <th>p2_dog</th>\n",
       "      <th>p3_conf</th>\n",
       "      <th>p3_dog</th>\n",
       "      <th>prediction_algorithm</th>\n",
       "      <th>predicted outcome</th>\n",
       "    </tr>\n",
       "  </thead>\n",
       "  <tbody>\n",
       "    <tr>\n",
       "      <th>834</th>\n",
       "      <td>694001791655137281</td>\n",
       "      <td>https://pbs.twimg.com/media/CaGW8JQUMAEVtLl.jpg</td>\n",
       "      <td>1</td>\n",
       "      <td>0.769999</td>\n",
       "      <td>True</td>\n",
       "      <td>0.229228</td>\n",
       "      <td>True</td>\n",
       "      <td>0.000247</td>\n",
       "      <td>True</td>\n",
       "      <td>p1</td>\n",
       "      <td>Pembroke</td>\n",
       "    </tr>\n",
       "    <tr>\n",
       "      <th>1052</th>\n",
       "      <td>714141408463036416</td>\n",
       "      <td>https://pbs.twimg.com/media/Cekj0qwXEAAHcS6.jpg</td>\n",
       "      <td>1</td>\n",
       "      <td>0.586951</td>\n",
       "      <td>True</td>\n",
       "      <td>0.378812</td>\n",
       "      <td>True</td>\n",
       "      <td>0.003605</td>\n",
       "      <td>True</td>\n",
       "      <td>p1</td>\n",
       "      <td>Labrador_retriever</td>\n",
       "    </tr>\n",
       "  </tbody>\n",
       "</table>\n",
       "</div>"
      ],
      "text/plain": [
       "                tweet_id                                          jpg_url  \\\n",
       "834   694001791655137281  https://pbs.twimg.com/media/CaGW8JQUMAEVtLl.jpg   \n",
       "1052  714141408463036416  https://pbs.twimg.com/media/Cekj0qwXEAAHcS6.jpg   \n",
       "\n",
       "      img_num   p1_conf  p1_dog   p2_conf  p2_dog   p3_conf  p3_dog  \\\n",
       "834         1  0.769999    True  0.229228    True  0.000247    True   \n",
       "1052        1  0.586951    True  0.378812    True  0.003605    True   \n",
       "\n",
       "     prediction_algorithm   predicted outcome  \n",
       "834                    p1            Pembroke  \n",
       "1052                   p1  Labrador_retriever  "
      ]
     },
     "execution_count": 99,
     "metadata": {},
     "output_type": "execute_result"
    }
   ],
   "source": [
    "df_imgpc.sample(2)"
   ]
  },
  {
   "cell_type": "code",
   "execution_count": null,
   "metadata": {},
   "outputs": [],
   "source": []
  },
  {
   "cell_type": "markdown",
   "metadata": {},
   "source": [
    "## Storing Data\n",
    "The following cells shows how we saved our gathered, assessed, and cleaned master dataset to a CSV file named \"twitter_archive_master.csv\"."
   ]
  },
  {
   "cell_type": "code",
   "execution_count": 100,
   "metadata": {},
   "outputs": [
    {
     "data": {
      "text/html": [
       "<div>\n",
       "<style scoped>\n",
       "    .dataframe tbody tr th:only-of-type {\n",
       "        vertical-align: middle;\n",
       "    }\n",
       "\n",
       "    .dataframe tbody tr th {\n",
       "        vertical-align: top;\n",
       "    }\n",
       "\n",
       "    .dataframe thead th {\n",
       "        text-align: right;\n",
       "    }\n",
       "</style>\n",
       "<table border=\"1\" class=\"dataframe\">\n",
       "  <thead>\n",
       "    <tr style=\"text-align: right;\">\n",
       "      <th></th>\n",
       "      <th>tweet_id</th>\n",
       "      <th>jpg_url</th>\n",
       "      <th>prediction_algorithm</th>\n",
       "      <th>predicted outcome</th>\n",
       "    </tr>\n",
       "  </thead>\n",
       "  <tbody>\n",
       "    <tr>\n",
       "      <th>0</th>\n",
       "      <td>666020888022790149</td>\n",
       "      <td>https://pbs.twimg.com/media/CT4udn0WwAA0aMy.jpg</td>\n",
       "      <td>p1</td>\n",
       "      <td>Welsh_springer_spaniel</td>\n",
       "    </tr>\n",
       "  </tbody>\n",
       "</table>\n",
       "</div>"
      ],
      "text/plain": [
       "             tweet_id                                          jpg_url  \\\n",
       "0  666020888022790149  https://pbs.twimg.com/media/CT4udn0WwAA0aMy.jpg   \n",
       "\n",
       "  prediction_algorithm       predicted outcome  \n",
       "0                   p1  Welsh_springer_spaniel  "
      ]
     },
     "execution_count": 100,
     "metadata": {},
     "output_type": "execute_result"
    }
   ],
   "source": [
    "# Before merging all datasets to a single one, we droped certain columns not relevant to our analysis in image predictions dataset\n",
    "df_imgpc.drop(columns=['img_num','p1_conf','p1_dog','p2_conf','p2_dog','p3_conf','p3_dog'],inplace=True)\n",
    "df_imgpc.head(1)"
   ]
  },
  {
   "cell_type": "code",
   "execution_count": 101,
   "metadata": {},
   "outputs": [],
   "source": [
    "# Here we merged our archive and api downloaded datasets to an intermediary dataframe on the tweet id\n",
    "df1 = pd.merge(df_archivec, df_morec, on=\"tweet_id\")"
   ]
  },
  {
   "cell_type": "code",
   "execution_count": 102,
   "metadata": {},
   "outputs": [],
   "source": [
    "# using the intermediary tataframe, we merged our final our image dataset to get our final master data\n",
    "df_complete=pd.merge(df1,df_imgpc, on=\"tweet_id\")"
   ]
  },
  {
   "cell_type": "markdown",
   "metadata": {},
   "source": [
    "  The cell below shows the final merging and creation of the twitter_archive_master.csv file"
   ]
  },
  {
   "cell_type": "code",
   "execution_count": 103,
   "metadata": {},
   "outputs": [],
   "source": [
    "df_complete.to_csv('twitter_archive_master.csv',index=False)"
   ]
  },
  {
   "cell_type": "markdown",
   "metadata": {},
   "source": [
    "## Analyzing and Visualizing Data\n",
    "In this section, The wrangled data is analyzed and visualized as seen below. **three (3) insights and one (1) visualization.** was gotten per requirements."
   ]
  },
  {
   "cell_type": "markdown",
   "metadata": {},
   "source": [
    "For our analysis and visualisations, we used the df_complete dataset which is a copy our our final cleaned master dataset. It is the same dataset saved as the `twitter_archive_master.csv`. "
   ]
  },
  {
   "cell_type": "code",
   "execution_count": 104,
   "metadata": {},
   "outputs": [
    {
     "name": "stdout",
     "output_type": "stream",
     "text": [
      "0 tweet_id\n",
      "1 year\n",
      "2 source\n",
      "3 text\n",
      "4 expanded_urls\n",
      "5 rating_numerator\n",
      "6 rating_denominator\n",
      "7 name\n",
      "8 short_url\n",
      "9 dog_stage\n",
      "10 presence\n",
      "11 retweet_count\n",
      "12 favorite_count\n",
      "13 jpg_url\n",
      "14 prediction_algorithm\n",
      "15 predicted outcome\n"
     ]
    }
   ],
   "source": [
    "# printing out our columns\n",
    "for i,v in enumerate(df_complete.columns):\n",
    "    print(i,v)"
   ]
  },
  {
   "cell_type": "markdown",
   "metadata": {},
   "source": [
    "**Question for first insight (1):**\n",
    "What is the name of the dog that had the highest rating in the year 2016."
   ]
  },
  {
   "cell_type": "code",
   "execution_count": 105,
   "metadata": {},
   "outputs": [
    {
     "data": {
      "text/html": [
       "<div>\n",
       "<style scoped>\n",
       "    .dataframe tbody tr th:only-of-type {\n",
       "        vertical-align: middle;\n",
       "    }\n",
       "\n",
       "    .dataframe tbody tr th {\n",
       "        vertical-align: top;\n",
       "    }\n",
       "\n",
       "    .dataframe thead th {\n",
       "        text-align: right;\n",
       "    }\n",
       "</style>\n",
       "<table border=\"1\" class=\"dataframe\">\n",
       "  <thead>\n",
       "    <tr style=\"text-align: right;\">\n",
       "      <th></th>\n",
       "      <th>tweet_id</th>\n",
       "      <th>year</th>\n",
       "      <th>source</th>\n",
       "      <th>text</th>\n",
       "      <th>expanded_urls</th>\n",
       "      <th>rating_numerator</th>\n",
       "      <th>rating_denominator</th>\n",
       "      <th>name</th>\n",
       "      <th>short_url</th>\n",
       "      <th>dog_stage</th>\n",
       "      <th>presence</th>\n",
       "      <th>retweet_count</th>\n",
       "      <th>favorite_count</th>\n",
       "      <th>jpg_url</th>\n",
       "      <th>prediction_algorithm</th>\n",
       "      <th>predicted outcome</th>\n",
       "    </tr>\n",
       "  </thead>\n",
       "  <tbody>\n",
       "    <tr>\n",
       "      <th>8580</th>\n",
       "      <td>749981277374128128</td>\n",
       "      <td>2016</td>\n",
       "      <td>https://about.twitter.com/products/tweetdeck</td>\n",
       "      <td>This is Atticus. He's quite simply America af....</td>\n",
       "      <td>https://twitter.com/dog_rates/status/749981277...</td>\n",
       "      <td>1776</td>\n",
       "      <td>10</td>\n",
       "      <td>Atticus</td>\n",
       "      <td>https://t.co/GRXwMxLBkh</td>\n",
       "      <td>doggo</td>\n",
       "      <td>None</td>\n",
       "      <td>2270</td>\n",
       "      <td>4768</td>\n",
       "      <td>https://pbs.twimg.com/media/CmgBZ7kWcAAlzFD.jpg</td>\n",
       "      <td>p1</td>\n",
       "      <td>bow_tie</td>\n",
       "    </tr>\n",
       "    <tr>\n",
       "      <th>8581</th>\n",
       "      <td>749981277374128128</td>\n",
       "      <td>2016</td>\n",
       "      <td>https://about.twitter.com/products/tweetdeck</td>\n",
       "      <td>This is Atticus. He's quite simply America af....</td>\n",
       "      <td>https://twitter.com/dog_rates/status/749981277...</td>\n",
       "      <td>1776</td>\n",
       "      <td>10</td>\n",
       "      <td>Atticus</td>\n",
       "      <td>https://t.co/GRXwMxLBkh</td>\n",
       "      <td>doggo</td>\n",
       "      <td>None</td>\n",
       "      <td>2270</td>\n",
       "      <td>4768</td>\n",
       "      <td>https://pbs.twimg.com/media/CmgBZ7kWcAAlzFD.jpg</td>\n",
       "      <td>p2</td>\n",
       "      <td>sunglasses</td>\n",
       "    </tr>\n",
       "    <tr>\n",
       "      <th>8582</th>\n",
       "      <td>749981277374128128</td>\n",
       "      <td>2016</td>\n",
       "      <td>https://about.twitter.com/products/tweetdeck</td>\n",
       "      <td>This is Atticus. He's quite simply America af....</td>\n",
       "      <td>https://twitter.com/dog_rates/status/749981277...</td>\n",
       "      <td>1776</td>\n",
       "      <td>10</td>\n",
       "      <td>Atticus</td>\n",
       "      <td>https://t.co/GRXwMxLBkh</td>\n",
       "      <td>doggo</td>\n",
       "      <td>None</td>\n",
       "      <td>2270</td>\n",
       "      <td>4768</td>\n",
       "      <td>https://pbs.twimg.com/media/CmgBZ7kWcAAlzFD.jpg</td>\n",
       "      <td>p3</td>\n",
       "      <td>sunglass</td>\n",
       "    </tr>\n",
       "  </tbody>\n",
       "</table>\n",
       "</div>"
      ],
      "text/plain": [
       "                tweet_id  year                                        source  \\\n",
       "8580  749981277374128128  2016  https://about.twitter.com/products/tweetdeck   \n",
       "8581  749981277374128128  2016  https://about.twitter.com/products/tweetdeck   \n",
       "8582  749981277374128128  2016  https://about.twitter.com/products/tweetdeck   \n",
       "\n",
       "                                                   text  \\\n",
       "8580  This is Atticus. He's quite simply America af....   \n",
       "8581  This is Atticus. He's quite simply America af....   \n",
       "8582  This is Atticus. He's quite simply America af....   \n",
       "\n",
       "                                          expanded_urls  rating_numerator  \\\n",
       "8580  https://twitter.com/dog_rates/status/749981277...              1776   \n",
       "8581  https://twitter.com/dog_rates/status/749981277...              1776   \n",
       "8582  https://twitter.com/dog_rates/status/749981277...              1776   \n",
       "\n",
       "      rating_denominator     name                short_url dog_stage presence  \\\n",
       "8580                  10  Atticus  https://t.co/GRXwMxLBkh     doggo     None   \n",
       "8581                  10  Atticus  https://t.co/GRXwMxLBkh     doggo     None   \n",
       "8582                  10  Atticus  https://t.co/GRXwMxLBkh     doggo     None   \n",
       "\n",
       "      retweet_count  favorite_count  \\\n",
       "8580           2270            4768   \n",
       "8581           2270            4768   \n",
       "8582           2270            4768   \n",
       "\n",
       "                                              jpg_url prediction_algorithm  \\\n",
       "8580  https://pbs.twimg.com/media/CmgBZ7kWcAAlzFD.jpg                   p1   \n",
       "8581  https://pbs.twimg.com/media/CmgBZ7kWcAAlzFD.jpg                   p2   \n",
       "8582  https://pbs.twimg.com/media/CmgBZ7kWcAAlzFD.jpg                   p3   \n",
       "\n",
       "     predicted outcome  \n",
       "8580           bow_tie  \n",
       "8581        sunglasses  \n",
       "8582          sunglass  "
      ]
     },
     "execution_count": 105,
     "metadata": {},
     "output_type": "execute_result"
    }
   ],
   "source": [
    "# Selected only 2016 data\n",
    "y16=df_complete[df_complete['year']=='2016']\n",
    "\n",
    "# selected the tweet with numerator maximum\n",
    "y16[y16.rating_numerator==y16.rating_numerator.max()].head(3)"
   ]
  },
  {
   "cell_type": "markdown",
   "metadata": {},
   "source": [
    "**Question for second insight (2):**\n",
    "Which Dog was the most retweeted through out the years"
   ]
  },
  {
   "cell_type": "code",
   "execution_count": 106,
   "metadata": {
    "scrolled": false
   },
   "outputs": [
    {
     "data": {
      "text/html": [
       "<div>\n",
       "<style scoped>\n",
       "    .dataframe tbody tr th:only-of-type {\n",
       "        vertical-align: middle;\n",
       "    }\n",
       "\n",
       "    .dataframe tbody tr th {\n",
       "        vertical-align: top;\n",
       "    }\n",
       "\n",
       "    .dataframe thead th {\n",
       "        text-align: right;\n",
       "    }\n",
       "</style>\n",
       "<table border=\"1\" class=\"dataframe\">\n",
       "  <thead>\n",
       "    <tr style=\"text-align: right;\">\n",
       "      <th></th>\n",
       "      <th>tweet_id</th>\n",
       "      <th>year</th>\n",
       "      <th>source</th>\n",
       "      <th>text</th>\n",
       "      <th>expanded_urls</th>\n",
       "      <th>rating_numerator</th>\n",
       "      <th>rating_denominator</th>\n",
       "      <th>name</th>\n",
       "      <th>short_url</th>\n",
       "      <th>dog_stage</th>\n",
       "      <th>presence</th>\n",
       "      <th>retweet_count</th>\n",
       "      <th>favorite_count</th>\n",
       "      <th>jpg_url</th>\n",
       "      <th>prediction_algorithm</th>\n",
       "      <th>predicted outcome</th>\n",
       "    </tr>\n",
       "  </thead>\n",
       "  <tbody>\n",
       "    <tr>\n",
       "      <th>9144</th>\n",
       "      <td>744234799360020481</td>\n",
       "      <td>2016</td>\n",
       "      <td>http://twitter.com/download/iphone</td>\n",
       "      <td>Here's a doggo realizing you can stand in a po...</td>\n",
       "      <td>https://twitter.com/dog_rates/status/744234799...</td>\n",
       "      <td>13</td>\n",
       "      <td>10</td>\n",
       "      <td>None</td>\n",
       "      <td>https://t.co/7wE9LTEXC4</td>\n",
       "      <td>doggo</td>\n",
       "      <td>doggo</td>\n",
       "      <td>70351</td>\n",
       "      <td>144287</td>\n",
       "      <td>https://pbs.twimg.com/ext_tw_video_thumb/74423...</td>\n",
       "      <td>p1</td>\n",
       "      <td>Labrador_retriever</td>\n",
       "    </tr>\n",
       "    <tr>\n",
       "      <th>9145</th>\n",
       "      <td>744234799360020481</td>\n",
       "      <td>2016</td>\n",
       "      <td>http://twitter.com/download/iphone</td>\n",
       "      <td>Here's a doggo realizing you can stand in a po...</td>\n",
       "      <td>https://twitter.com/dog_rates/status/744234799...</td>\n",
       "      <td>13</td>\n",
       "      <td>10</td>\n",
       "      <td>None</td>\n",
       "      <td>https://t.co/7wE9LTEXC4</td>\n",
       "      <td>doggo</td>\n",
       "      <td>doggo</td>\n",
       "      <td>70351</td>\n",
       "      <td>144287</td>\n",
       "      <td>https://pbs.twimg.com/ext_tw_video_thumb/74423...</td>\n",
       "      <td>p2</td>\n",
       "      <td>ice_bear</td>\n",
       "    </tr>\n",
       "    <tr>\n",
       "      <th>9146</th>\n",
       "      <td>744234799360020481</td>\n",
       "      <td>2016</td>\n",
       "      <td>http://twitter.com/download/iphone</td>\n",
       "      <td>Here's a doggo realizing you can stand in a po...</td>\n",
       "      <td>https://twitter.com/dog_rates/status/744234799...</td>\n",
       "      <td>13</td>\n",
       "      <td>10</td>\n",
       "      <td>None</td>\n",
       "      <td>https://t.co/7wE9LTEXC4</td>\n",
       "      <td>doggo</td>\n",
       "      <td>doggo</td>\n",
       "      <td>70351</td>\n",
       "      <td>144287</td>\n",
       "      <td>https://pbs.twimg.com/ext_tw_video_thumb/74423...</td>\n",
       "      <td>p3</td>\n",
       "      <td>whippet</td>\n",
       "    </tr>\n",
       "  </tbody>\n",
       "</table>\n",
       "</div>"
      ],
      "text/plain": [
       "                tweet_id  year                              source  \\\n",
       "9144  744234799360020481  2016  http://twitter.com/download/iphone   \n",
       "9145  744234799360020481  2016  http://twitter.com/download/iphone   \n",
       "9146  744234799360020481  2016  http://twitter.com/download/iphone   \n",
       "\n",
       "                                                   text  \\\n",
       "9144  Here's a doggo realizing you can stand in a po...   \n",
       "9145  Here's a doggo realizing you can stand in a po...   \n",
       "9146  Here's a doggo realizing you can stand in a po...   \n",
       "\n",
       "                                          expanded_urls  rating_numerator  \\\n",
       "9144  https://twitter.com/dog_rates/status/744234799...                13   \n",
       "9145  https://twitter.com/dog_rates/status/744234799...                13   \n",
       "9146  https://twitter.com/dog_rates/status/744234799...                13   \n",
       "\n",
       "      rating_denominator  name                short_url dog_stage presence  \\\n",
       "9144                  10  None  https://t.co/7wE9LTEXC4     doggo    doggo   \n",
       "9145                  10  None  https://t.co/7wE9LTEXC4     doggo    doggo   \n",
       "9146                  10  None  https://t.co/7wE9LTEXC4     doggo    doggo   \n",
       "\n",
       "      retweet_count  favorite_count  \\\n",
       "9144          70351          144287   \n",
       "9145          70351          144287   \n",
       "9146          70351          144287   \n",
       "\n",
       "                                                jpg_url prediction_algorithm  \\\n",
       "9144  https://pbs.twimg.com/ext_tw_video_thumb/74423...                   p1   \n",
       "9145  https://pbs.twimg.com/ext_tw_video_thumb/74423...                   p2   \n",
       "9146  https://pbs.twimg.com/ext_tw_video_thumb/74423...                   p3   \n",
       "\n",
       "       predicted outcome  \n",
       "9144  Labrador_retriever  \n",
       "9145            ice_bear  \n",
       "9146             whippet  "
      ]
     },
     "execution_count": 106,
     "metadata": {},
     "output_type": "execute_result"
    }
   ],
   "source": [
    "# data with highest retweet count selected\n",
    "df_complete[df_complete.retweet_count==df_complete.retweet_count.max()].head(3)"
   ]
  },
  {
   "cell_type": "markdown",
   "metadata": {},
   "source": [
    "**Question for third insight (3):**\n",
    "Which Dog has been the most favorite"
   ]
  },
  {
   "cell_type": "code",
   "execution_count": 107,
   "metadata": {},
   "outputs": [
    {
     "data": {
      "text/html": [
       "<div>\n",
       "<style scoped>\n",
       "    .dataframe tbody tr th:only-of-type {\n",
       "        vertical-align: middle;\n",
       "    }\n",
       "\n",
       "    .dataframe tbody tr th {\n",
       "        vertical-align: top;\n",
       "    }\n",
       "\n",
       "    .dataframe thead th {\n",
       "        text-align: right;\n",
       "    }\n",
       "</style>\n",
       "<table border=\"1\" class=\"dataframe\">\n",
       "  <thead>\n",
       "    <tr style=\"text-align: right;\">\n",
       "      <th></th>\n",
       "      <th>tweet_id</th>\n",
       "      <th>year</th>\n",
       "      <th>source</th>\n",
       "      <th>text</th>\n",
       "      <th>expanded_urls</th>\n",
       "      <th>rating_numerator</th>\n",
       "      <th>rating_denominator</th>\n",
       "      <th>name</th>\n",
       "      <th>short_url</th>\n",
       "      <th>dog_stage</th>\n",
       "      <th>presence</th>\n",
       "      <th>retweet_count</th>\n",
       "      <th>favorite_count</th>\n",
       "      <th>jpg_url</th>\n",
       "      <th>prediction_algorithm</th>\n",
       "      <th>predicted outcome</th>\n",
       "    </tr>\n",
       "  </thead>\n",
       "  <tbody>\n",
       "    <tr>\n",
       "      <th>9144</th>\n",
       "      <td>744234799360020481</td>\n",
       "      <td>2016</td>\n",
       "      <td>http://twitter.com/download/iphone</td>\n",
       "      <td>Here's a doggo realizing you can stand in a po...</td>\n",
       "      <td>https://twitter.com/dog_rates/status/744234799...</td>\n",
       "      <td>13</td>\n",
       "      <td>10</td>\n",
       "      <td>None</td>\n",
       "      <td>https://t.co/7wE9LTEXC4</td>\n",
       "      <td>doggo</td>\n",
       "      <td>doggo</td>\n",
       "      <td>70351</td>\n",
       "      <td>144287</td>\n",
       "      <td>https://pbs.twimg.com/ext_tw_video_thumb/74423...</td>\n",
       "      <td>p1</td>\n",
       "      <td>Labrador_retriever</td>\n",
       "    </tr>\n",
       "    <tr>\n",
       "      <th>9145</th>\n",
       "      <td>744234799360020481</td>\n",
       "      <td>2016</td>\n",
       "      <td>http://twitter.com/download/iphone</td>\n",
       "      <td>Here's a doggo realizing you can stand in a po...</td>\n",
       "      <td>https://twitter.com/dog_rates/status/744234799...</td>\n",
       "      <td>13</td>\n",
       "      <td>10</td>\n",
       "      <td>None</td>\n",
       "      <td>https://t.co/7wE9LTEXC4</td>\n",
       "      <td>doggo</td>\n",
       "      <td>doggo</td>\n",
       "      <td>70351</td>\n",
       "      <td>144287</td>\n",
       "      <td>https://pbs.twimg.com/ext_tw_video_thumb/74423...</td>\n",
       "      <td>p2</td>\n",
       "      <td>ice_bear</td>\n",
       "    </tr>\n",
       "    <tr>\n",
       "      <th>9146</th>\n",
       "      <td>744234799360020481</td>\n",
       "      <td>2016</td>\n",
       "      <td>http://twitter.com/download/iphone</td>\n",
       "      <td>Here's a doggo realizing you can stand in a po...</td>\n",
       "      <td>https://twitter.com/dog_rates/status/744234799...</td>\n",
       "      <td>13</td>\n",
       "      <td>10</td>\n",
       "      <td>None</td>\n",
       "      <td>https://t.co/7wE9LTEXC4</td>\n",
       "      <td>doggo</td>\n",
       "      <td>doggo</td>\n",
       "      <td>70351</td>\n",
       "      <td>144287</td>\n",
       "      <td>https://pbs.twimg.com/ext_tw_video_thumb/74423...</td>\n",
       "      <td>p3</td>\n",
       "      <td>whippet</td>\n",
       "    </tr>\n",
       "  </tbody>\n",
       "</table>\n",
       "</div>"
      ],
      "text/plain": [
       "                tweet_id  year                              source  \\\n",
       "9144  744234799360020481  2016  http://twitter.com/download/iphone   \n",
       "9145  744234799360020481  2016  http://twitter.com/download/iphone   \n",
       "9146  744234799360020481  2016  http://twitter.com/download/iphone   \n",
       "\n",
       "                                                   text  \\\n",
       "9144  Here's a doggo realizing you can stand in a po...   \n",
       "9145  Here's a doggo realizing you can stand in a po...   \n",
       "9146  Here's a doggo realizing you can stand in a po...   \n",
       "\n",
       "                                          expanded_urls  rating_numerator  \\\n",
       "9144  https://twitter.com/dog_rates/status/744234799...                13   \n",
       "9145  https://twitter.com/dog_rates/status/744234799...                13   \n",
       "9146  https://twitter.com/dog_rates/status/744234799...                13   \n",
       "\n",
       "      rating_denominator  name                short_url dog_stage presence  \\\n",
       "9144                  10  None  https://t.co/7wE9LTEXC4     doggo    doggo   \n",
       "9145                  10  None  https://t.co/7wE9LTEXC4     doggo    doggo   \n",
       "9146                  10  None  https://t.co/7wE9LTEXC4     doggo    doggo   \n",
       "\n",
       "      retweet_count  favorite_count  \\\n",
       "9144          70351          144287   \n",
       "9145          70351          144287   \n",
       "9146          70351          144287   \n",
       "\n",
       "                                                jpg_url prediction_algorithm  \\\n",
       "9144  https://pbs.twimg.com/ext_tw_video_thumb/74423...                   p1   \n",
       "9145  https://pbs.twimg.com/ext_tw_video_thumb/74423...                   p2   \n",
       "9146  https://pbs.twimg.com/ext_tw_video_thumb/74423...                   p3   \n",
       "\n",
       "       predicted outcome  \n",
       "9144  Labrador_retriever  \n",
       "9145            ice_bear  \n",
       "9146             whippet  "
      ]
     },
     "execution_count": 107,
     "metadata": {},
     "output_type": "execute_result"
    }
   ],
   "source": [
    "# data with highest favorite count selected\n",
    "df_complete[df_complete.favorite_count\t==df_complete.favorite_count\t.max()].head(3)"
   ]
  },
  {
   "cell_type": "markdown",
   "metadata": {},
   "source": [
    "### Insights:\n",
    "1. In the year 2016, the Dog called Atticus had the highest rating that year. a whooping 1776/10. A value worth contemplating if it is by error or Atticus is worth that much of a rating.\n",
    "\n",
    "2. The most retweeted dog is a Labrador_retriever according to p1 image prediction. It was rated in the year 2016.\n",
    "\n",
    "3. The Labrador_retriever still wins as the dog with the most favorites as it has the highest favorite count(144,287)"
   ]
  },
  {
   "cell_type": "markdown",
   "metadata": {
    "collapsed": true
   },
   "source": [
    "### Visualization"
   ]
  },
  {
   "cell_type": "markdown",
   "metadata": {},
   "source": [
    "We used the mean retweets in the WeRateDogs account to determine how it has been growing over the years. It can be clearly seen below that growth has been steadyily increasing from 2015 to 2017 per our data window."
   ]
  },
  {
   "cell_type": "code",
   "execution_count": 108,
   "metadata": {},
   "outputs": [
    {
     "data": {
      "image/png": "[encoded data removed]",
      "text/plain": [
       "<Figure size 1008x504 with 1 Axes>"
      ]
     },
     "metadata": {
      "needs_background": "light"
     },
     "output_type": "display_data"
    }
   ],
   "source": [
    "#groupingby data by the mean \n",
    "mean_retweets=df_complete.groupby(['year']).mean()\n",
    "\n",
    "#selecting retweet count and plotting a bar chart\n",
    "mean_retweets['retweet_count'].plot(kind='bar',figsize=(14,7),color='black')\n",
    "\n",
    "# defining plot parameters with matplotlib\n",
    "plt.xticks(rotation=0)\n",
    "plt.title('Growth of the WeRateDogs account through years from a retweets perspective',fontsize='14')\n",
    "plt.ylabel('Mean',fontsize='14')\n",
    "plt.xlabel('Year',fontsize='14');"
   ]
  }
 ],
 "metadata": {
  "extensions": {
   "jupyter_dashboards": {
    "activeView": "report_default",
    "version": 1,
    "views": {
     "grid_default": {
      "cellMargin": 10,
      "defaultCellHeight": 20,
      "maxColumns": 12,
      "name": "grid",
      "type": "grid"
     },
     "report_default": {
      "name": "report",
      "type": "report"
     }
    }
   }
  },
  "kernelspec": {
   "display_name": "Python 3 (ipykernel)",
   "language": "python",
   "name": "python3"
  },
  "language_info": {
   "codemirror_mode": {
    "name": "ipython",
    "version": 3
   },
   "file_extension": ".py",
   "mimetype": "text/x-python",
   "name": "python",
   "nbconvert_exporter": "python",
   "pygments_lexer": "ipython3",
   "version": "3.9.12"
  }
 },
 "nbformat": 4,
 "nbformat_minor": 2
}
